{
 "cells": [
  {
   "cell_type": "code",
   "execution_count": 2,
   "metadata": {
    "collapsed": true,
    "ExecuteTime": {
     "end_time": "2023-06-08T21:58:48.639372691Z",
     "start_time": "2023-06-08T21:58:48.291864420Z"
    }
   },
   "outputs": [],
   "source": [
    "import pandas as pd\n",
    "import numpy as np\n",
    "from sklearn.model_selection import train_test_split"
   ]
  },
  {
   "cell_type": "code",
   "execution_count": 3,
   "outputs": [],
   "source": [
    "data_raw = pd.read_csv(\"/home/pepe/dev/datasets/dataset/target1.csv\", header=0)"
   ],
   "metadata": {
    "collapsed": false,
    "ExecuteTime": {
     "end_time": "2023-06-08T21:58:48.721271019Z",
     "start_time": "2023-06-08T21:58:48.720984498Z"
    }
   }
  },
  {
   "cell_type": "code",
   "execution_count": 4,
   "outputs": [
    {
     "data": {
      "text/plain": "         Unnamed: 0            id        linear       angular\ncount  11797.000000  11797.000000  11797.000000  11797.000000\nmean    5898.000000   6487.901924      0.157160      0.091016\nstd     3405.644897   3686.283609      0.069144      0.627228\nmin        0.000000    120.000000     -1.088268     -1.000000\n25%     2949.000000   3166.000000      0.140883     -0.284871\n50%     5898.000000   6666.000000      0.165748      0.021191\n75%     8847.000000   9752.000000      0.190612      0.638982\nmax    11796.000000  12701.000000      0.527557      1.000000",
      "text/html": "<div>\n<style scoped>\n    .dataframe tbody tr th:only-of-type {\n        vertical-align: middle;\n    }\n\n    .dataframe tbody tr th {\n        vertical-align: top;\n    }\n\n    .dataframe thead th {\n        text-align: right;\n    }\n</style>\n<table border=\"1\" class=\"dataframe\">\n  <thead>\n    <tr style=\"text-align: right;\">\n      <th></th>\n      <th>Unnamed: 0</th>\n      <th>id</th>\n      <th>linear</th>\n      <th>angular</th>\n    </tr>\n  </thead>\n  <tbody>\n    <tr>\n      <th>count</th>\n      <td>11797.000000</td>\n      <td>11797.000000</td>\n      <td>11797.000000</td>\n      <td>11797.000000</td>\n    </tr>\n    <tr>\n      <th>mean</th>\n      <td>5898.000000</td>\n      <td>6487.901924</td>\n      <td>0.157160</td>\n      <td>0.091016</td>\n    </tr>\n    <tr>\n      <th>std</th>\n      <td>3405.644897</td>\n      <td>3686.283609</td>\n      <td>0.069144</td>\n      <td>0.627228</td>\n    </tr>\n    <tr>\n      <th>min</th>\n      <td>0.000000</td>\n      <td>120.000000</td>\n      <td>-1.088268</td>\n      <td>-1.000000</td>\n    </tr>\n    <tr>\n      <th>25%</th>\n      <td>2949.000000</td>\n      <td>3166.000000</td>\n      <td>0.140883</td>\n      <td>-0.284871</td>\n    </tr>\n    <tr>\n      <th>50%</th>\n      <td>5898.000000</td>\n      <td>6666.000000</td>\n      <td>0.165748</td>\n      <td>0.021191</td>\n    </tr>\n    <tr>\n      <th>75%</th>\n      <td>8847.000000</td>\n      <td>9752.000000</td>\n      <td>0.190612</td>\n      <td>0.638982</td>\n    </tr>\n    <tr>\n      <th>max</th>\n      <td>11796.000000</td>\n      <td>12701.000000</td>\n      <td>0.527557</td>\n      <td>1.000000</td>\n    </tr>\n  </tbody>\n</table>\n</div>"
     },
     "execution_count": 4,
     "metadata": {},
     "output_type": "execute_result"
    }
   ],
   "source": [
    "data_raw.describe()"
   ],
   "metadata": {
    "collapsed": false,
    "ExecuteTime": {
     "end_time": "2023-06-08T17:07:50.042161987Z",
     "start_time": "2023-06-08T17:07:50.033623810Z"
    }
   }
  },
  {
   "cell_type": "code",
   "execution_count": 6,
   "outputs": [
    {
     "data": {
      "text/plain": "array([[<AxesSubplot:title={'center':'Unnamed: 0'}>,\n        <AxesSubplot:title={'center':'id'}>],\n       [<AxesSubplot:title={'center':'linear'}>,\n        <AxesSubplot:title={'center':'angular'}>]], dtype=object)"
     },
     "execution_count": 6,
     "metadata": {},
     "output_type": "execute_result"
    },
    {
     "data": {
      "text/plain": "<Figure size 640x480 with 4 Axes>",
      "image/png": "[encoded data removed]"
     },
     "metadata": {},
     "output_type": "display_data"
    }
   ],
   "source": [
    "data_raw.hist()"
   ],
   "metadata": {
    "collapsed": false,
    "ExecuteTime": {
     "end_time": "2023-06-08T17:08:54.807596918Z",
     "start_time": "2023-06-08T17:08:54.591676358Z"
    }
   }
  },
  {
   "cell_type": "code",
   "execution_count": 4,
   "outputs": [],
   "source": [
    "n_buckets = 5\n",
    "angular_buckets_space = np.linspace(-1.0, 1.0, 6)\n"
   ],
   "metadata": {
    "collapsed": false,
    "ExecuteTime": {
     "end_time": "2023-06-08T21:58:51.815218044Z",
     "start_time": "2023-06-08T21:58:51.810964607Z"
    }
   }
  },
  {
   "cell_type": "code",
   "execution_count": 5,
   "outputs": [
    {
     "data": {
      "text/plain": "array([-1. , -0.6, -0.2,  0.2,  0.6,  1. ])"
     },
     "execution_count": 5,
     "metadata": {},
     "output_type": "execute_result"
    }
   ],
   "source": [
    "angular_buckets_space"
   ],
   "metadata": {
    "collapsed": false,
    "ExecuteTime": {
     "end_time": "2023-06-08T21:58:52.258100490Z",
     "start_time": "2023-06-08T21:58:52.250657169Z"
    }
   }
  },
  {
   "cell_type": "code",
   "execution_count": 6,
   "outputs": [],
   "source": [
    "angular_5_labels = [\"L\", \"ML\", \"C\", \"MR\", \"R\"]"
   ],
   "metadata": {
    "collapsed": false,
    "ExecuteTime": {
     "end_time": "2023-06-08T21:58:53.256429488Z",
     "start_time": "2023-06-08T21:58:53.254386690Z"
    }
   }
  },
  {
   "cell_type": "code",
   "execution_count": 7,
   "outputs": [],
   "source": [
    "angles = [[-1,-0.6], [-0.6, -0.2], [-0.2, 0.2], [0.2, 0.6], [0.6, 1]]"
   ],
   "metadata": {
    "collapsed": false,
    "ExecuteTime": {
     "end_time": "2023-06-08T21:58:54.174810309Z",
     "start_time": "2023-06-08T21:58:54.172028287Z"
    }
   }
  },
  {
   "cell_type": "code",
   "execution_count": 8,
   "outputs": [
    {
     "data": {
      "text/plain": "    start  end\nL    -1.0 -0.6\nML   -0.6 -0.2\nC    -0.2  0.2\nMR    0.2  0.6\nR     0.6  1.0",
      "text/html": "<div>\n<style scoped>\n    .dataframe tbody tr th:only-of-type {\n        vertical-align: middle;\n    }\n\n    .dataframe tbody tr th {\n        vertical-align: top;\n    }\n\n    .dataframe thead th {\n        text-align: right;\n    }\n</style>\n<table border=\"1\" class=\"dataframe\">\n  <thead>\n    <tr style=\"text-align: right;\">\n      <th></th>\n      <th>start</th>\n      <th>end</th>\n    </tr>\n  </thead>\n  <tbody>\n    <tr>\n      <th>L</th>\n      <td>-1.0</td>\n      <td>-0.6</td>\n    </tr>\n    <tr>\n      <th>ML</th>\n      <td>-0.6</td>\n      <td>-0.2</td>\n    </tr>\n    <tr>\n      <th>C</th>\n      <td>-0.2</td>\n      <td>0.2</td>\n    </tr>\n    <tr>\n      <th>MR</th>\n      <td>0.2</td>\n      <td>0.6</td>\n    </tr>\n    <tr>\n      <th>R</th>\n      <td>0.6</td>\n      <td>1.0</td>\n    </tr>\n  </tbody>\n</table>\n</div>"
     },
     "execution_count": 8,
     "metadata": {},
     "output_type": "execute_result"
    }
   ],
   "source": [
    "angles_df = pd.DataFrame(angles, index=angular_5_labels, columns=[\"start\", \"end\"])\n",
    "angles_df"
   ],
   "metadata": {
    "collapsed": false,
    "ExecuteTime": {
     "end_time": "2023-06-08T21:58:54.561466582Z",
     "start_time": "2023-06-08T21:58:54.557918067Z"
    }
   }
  },
  {
   "cell_type": "code",
   "execution_count": 9,
   "outputs": [],
   "source": [
    "L_df = data_raw[(data_raw[\"angular\"] < -0.6) & (data_raw[\"angular\"] > -1)]\n",
    "ML_df = data_raw[(data_raw[\"angular\"] < -0.2) & (data_raw[\"angular\"] > -0.6)]\n",
    "C_df = data_raw[(data_raw[\"angular\"] < 0.2) & (data_raw[\"angular\"] > -0.2)]\n",
    "MR_df = data_raw[(data_raw[\"angular\"] < 0.6) & (data_raw[\"angular\"] > 0.2)]\n",
    "R_df = data_raw[(data_raw[\"angular\"] < 1) & (data_raw[\"angular\"] > 0.6)]"
   ],
   "metadata": {
    "collapsed": false,
    "ExecuteTime": {
     "end_time": "2023-06-08T21:58:55.657390882Z",
     "start_time": "2023-06-08T21:58:55.640607762Z"
    }
   }
  },
  {
   "cell_type": "code",
   "execution_count": 10,
   "outputs": [
    {
     "data": {
      "text/plain": "         Unnamed: 0            id      linear     angular\ncount    610.000000    610.000000  610.000000  610.000000\nmean    5367.657377   5913.436066    0.163282   -0.782939\nstd     3717.415818   4027.050728    0.043902    0.131262\nmin      204.000000    324.000000    0.000000   -0.999743\n25%     1942.250000   2159.250000    0.149171   -0.887082\n50%     5540.500000   6308.500000    0.165748   -0.762759\n75%     8813.750000   9718.750000    0.182324   -0.665614\nmax    11638.000000  12543.000000    0.314951   -0.603452",
      "text/html": "<div>\n<style scoped>\n    .dataframe tbody tr th:only-of-type {\n        vertical-align: middle;\n    }\n\n    .dataframe tbody tr th {\n        vertical-align: top;\n    }\n\n    .dataframe thead th {\n        text-align: right;\n    }\n</style>\n<table border=\"1\" class=\"dataframe\">\n  <thead>\n    <tr style=\"text-align: right;\">\n      <th></th>\n      <th>Unnamed: 0</th>\n      <th>id</th>\n      <th>linear</th>\n      <th>angular</th>\n    </tr>\n  </thead>\n  <tbody>\n    <tr>\n      <th>count</th>\n      <td>610.000000</td>\n      <td>610.000000</td>\n      <td>610.000000</td>\n      <td>610.000000</td>\n    </tr>\n    <tr>\n      <th>mean</th>\n      <td>5367.657377</td>\n      <td>5913.436066</td>\n      <td>0.163282</td>\n      <td>-0.782939</td>\n    </tr>\n    <tr>\n      <th>std</th>\n      <td>3717.415818</td>\n      <td>4027.050728</td>\n      <td>0.043902</td>\n      <td>0.131262</td>\n    </tr>\n    <tr>\n      <th>min</th>\n      <td>204.000000</td>\n      <td>324.000000</td>\n      <td>0.000000</td>\n      <td>-0.999743</td>\n    </tr>\n    <tr>\n      <th>25%</th>\n      <td>1942.250000</td>\n      <td>2159.250000</td>\n      <td>0.149171</td>\n      <td>-0.887082</td>\n    </tr>\n    <tr>\n      <th>50%</th>\n      <td>5540.500000</td>\n      <td>6308.500000</td>\n      <td>0.165748</td>\n      <td>-0.762759</td>\n    </tr>\n    <tr>\n      <th>75%</th>\n      <td>8813.750000</td>\n      <td>9718.750000</td>\n      <td>0.182324</td>\n      <td>-0.665614</td>\n    </tr>\n    <tr>\n      <th>max</th>\n      <td>11638.000000</td>\n      <td>12543.000000</td>\n      <td>0.314951</td>\n      <td>-0.603452</td>\n    </tr>\n  </tbody>\n</table>\n</div>"
     },
     "execution_count": 10,
     "metadata": {},
     "output_type": "execute_result"
    }
   ],
   "source": [
    "L_df.describe()"
   ],
   "metadata": {
    "collapsed": false,
    "ExecuteTime": {
     "end_time": "2023-06-08T21:58:56.180828649Z",
     "start_time": "2023-06-08T21:58:56.166123788Z"
    }
   }
  },
  {
   "cell_type": "code",
   "execution_count": 24,
   "outputs": [
    {
     "data": {
      "text/plain": "         Unnamed: 0            id       linear      angular\ncount   1322.000000   1322.000000  1322.000000  1322.000000\nmean    5602.795008   6175.180030     0.151457    -0.407253\nstd     3732.604282   4044.093396     0.039951     0.114210\nmin       25.000000    145.000000     0.000000    -0.599565\n25%     1611.250000   1828.250000     0.136739    -0.513109\n50%     5864.500000   6632.500000     0.153315    -0.420855\n75%     9107.750000  10012.750000     0.169892    -0.313020\nmax    11636.000000  12541.000000     0.314951    -0.203274",
      "text/html": "<div>\n<style scoped>\n    .dataframe tbody tr th:only-of-type {\n        vertical-align: middle;\n    }\n\n    .dataframe tbody tr th {\n        vertical-align: top;\n    }\n\n    .dataframe thead th {\n        text-align: right;\n    }\n</style>\n<table border=\"1\" class=\"dataframe\">\n  <thead>\n    <tr style=\"text-align: right;\">\n      <th></th>\n      <th>Unnamed: 0</th>\n      <th>id</th>\n      <th>linear</th>\n      <th>angular</th>\n    </tr>\n  </thead>\n  <tbody>\n    <tr>\n      <th>count</th>\n      <td>1322.000000</td>\n      <td>1322.000000</td>\n      <td>1322.000000</td>\n      <td>1322.000000</td>\n    </tr>\n    <tr>\n      <th>mean</th>\n      <td>5602.795008</td>\n      <td>6175.180030</td>\n      <td>0.151457</td>\n      <td>-0.407253</td>\n    </tr>\n    <tr>\n      <th>std</th>\n      <td>3732.604282</td>\n      <td>4044.093396</td>\n      <td>0.039951</td>\n      <td>0.114210</td>\n    </tr>\n    <tr>\n      <th>min</th>\n      <td>25.000000</td>\n      <td>145.000000</td>\n      <td>0.000000</td>\n      <td>-0.599565</td>\n    </tr>\n    <tr>\n      <th>25%</th>\n      <td>1611.250000</td>\n      <td>1828.250000</td>\n      <td>0.136739</td>\n      <td>-0.513109</td>\n    </tr>\n    <tr>\n      <th>50%</th>\n      <td>5864.500000</td>\n      <td>6632.500000</td>\n      <td>0.153315</td>\n      <td>-0.420855</td>\n    </tr>\n    <tr>\n      <th>75%</th>\n      <td>9107.750000</td>\n      <td>10012.750000</td>\n      <td>0.169892</td>\n      <td>-0.313020</td>\n    </tr>\n    <tr>\n      <th>max</th>\n      <td>11636.000000</td>\n      <td>12541.000000</td>\n      <td>0.314951</td>\n      <td>-0.203274</td>\n    </tr>\n  </tbody>\n</table>\n</div>"
     },
     "execution_count": 24,
     "metadata": {},
     "output_type": "execute_result"
    }
   ],
   "source": [
    "ML_df.describe()"
   ],
   "metadata": {
    "collapsed": false,
    "ExecuteTime": {
     "end_time": "2023-06-08T17:23:26.238590959Z",
     "start_time": "2023-06-08T17:23:26.206970193Z"
    }
   }
  },
  {
   "cell_type": "code",
   "execution_count": 34,
   "outputs": [
    {
     "data": {
      "text/plain": "       Unnamed: 0     id    linear   angular  \\\n15             15    135  0.190612  0.149433   \n16             16    136  0.190612  0.149433   \n17             17    137  0.190612  0.149433   \n18             18    138  0.190612  0.149433   \n19             19    139  0.190612  0.149433   \n...           ...    ...       ...       ...   \n11792       11792  12697  0.000000  0.040627   \n11793       11793  12698  0.000000  0.040627   \n11794       11794  12699  0.000000  0.040627   \n11795       11795  12700  0.000000  0.040627   \n11796       11796  12701  0.000000  0.040627   \n\n                                           target  \n15     [0.19061219692230225, 0.14943307638168335]  \n16     [0.19061219692230225, 0.14943307638168335]  \n17     [0.19061219692230225, 0.14943307638168335]  \n18     [0.19061219692230225, 0.14943307638168335]  \n19     [0.19061219692230225, 0.14943307638168335]  \n...                                           ...  \n11792                 [0.0, 0.040626559406518936]  \n11793                 [0.0, 0.040626559406518936]  \n11794                 [0.0, 0.040626559406518936]  \n11795                 [0.0, 0.040626559406518936]  \n11796                 [0.0, 0.040626559406518936]  \n\n[4287 rows x 5 columns]",
      "text/html": "<div>\n<style scoped>\n    .dataframe tbody tr th:only-of-type {\n        vertical-align: middle;\n    }\n\n    .dataframe tbody tr th {\n        vertical-align: top;\n    }\n\n    .dataframe thead th {\n        text-align: right;\n    }\n</style>\n<table border=\"1\" class=\"dataframe\">\n  <thead>\n    <tr style=\"text-align: right;\">\n      <th></th>\n      <th>Unnamed: 0</th>\n      <th>id</th>\n      <th>linear</th>\n      <th>angular</th>\n      <th>target</th>\n    </tr>\n  </thead>\n  <tbody>\n    <tr>\n      <th>15</th>\n      <td>15</td>\n      <td>135</td>\n      <td>0.190612</td>\n      <td>0.149433</td>\n      <td>[0.19061219692230225, 0.14943307638168335]</td>\n    </tr>\n    <tr>\n      <th>16</th>\n      <td>16</td>\n      <td>136</td>\n      <td>0.190612</td>\n      <td>0.149433</td>\n      <td>[0.19061219692230225, 0.14943307638168335]</td>\n    </tr>\n    <tr>\n      <th>17</th>\n      <td>17</td>\n      <td>137</td>\n      <td>0.190612</td>\n      <td>0.149433</td>\n      <td>[0.19061219692230225, 0.14943307638168335]</td>\n    </tr>\n    <tr>\n      <th>18</th>\n      <td>18</td>\n      <td>138</td>\n      <td>0.190612</td>\n      <td>0.149433</td>\n      <td>[0.19061219692230225, 0.14943307638168335]</td>\n    </tr>\n    <tr>\n      <th>19</th>\n      <td>19</td>\n      <td>139</td>\n      <td>0.190612</td>\n      <td>0.149433</td>\n      <td>[0.19061219692230225, 0.14943307638168335]</td>\n    </tr>\n    <tr>\n      <th>...</th>\n      <td>...</td>\n      <td>...</td>\n      <td>...</td>\n      <td>...</td>\n      <td>...</td>\n    </tr>\n    <tr>\n      <th>11792</th>\n      <td>11792</td>\n      <td>12697</td>\n      <td>0.000000</td>\n      <td>0.040627</td>\n      <td>[0.0, 0.040626559406518936]</td>\n    </tr>\n    <tr>\n      <th>11793</th>\n      <td>11793</td>\n      <td>12698</td>\n      <td>0.000000</td>\n      <td>0.040627</td>\n      <td>[0.0, 0.040626559406518936]</td>\n    </tr>\n    <tr>\n      <th>11794</th>\n      <td>11794</td>\n      <td>12699</td>\n      <td>0.000000</td>\n      <td>0.040627</td>\n      <td>[0.0, 0.040626559406518936]</td>\n    </tr>\n    <tr>\n      <th>11795</th>\n      <td>11795</td>\n      <td>12700</td>\n      <td>0.000000</td>\n      <td>0.040627</td>\n      <td>[0.0, 0.040626559406518936]</td>\n    </tr>\n    <tr>\n      <th>11796</th>\n      <td>11796</td>\n      <td>12701</td>\n      <td>0.000000</td>\n      <td>0.040627</td>\n      <td>[0.0, 0.040626559406518936]</td>\n    </tr>\n  </tbody>\n</table>\n<p>4287 rows × 5 columns</p>\n</div>"
     },
     "execution_count": 34,
     "metadata": {},
     "output_type": "execute_result"
    }
   ],
   "source": [
    "C_df"
   ],
   "metadata": {
    "collapsed": false,
    "ExecuteTime": {
     "end_time": "2023-06-08T19:52:11.061140393Z",
     "start_time": "2023-06-08T19:52:11.018082518Z"
    }
   }
  },
  {
   "cell_type": "code",
   "execution_count": 11,
   "outputs": [],
   "source": [
    "test_percent = 0.15\n",
    "n_L = len(L_df)\n",
    "n_ML = len(ML_df)\n",
    "n_C = len(C_df)\n",
    "n_MR = len(MR_df)\n",
    "n_R = len(R_df)"
   ],
   "metadata": {
    "collapsed": false,
    "ExecuteTime": {
     "end_time": "2023-06-08T21:59:01.906514629Z",
     "start_time": "2023-06-08T21:59:01.902811293Z"
    }
   }
  },
  {
   "cell_type": "code",
   "execution_count": 12,
   "outputs": [],
   "source": [
    "train_L, test_L = train_test_split(L_df, test_size=0.2)\n",
    "train_ML, test_ML = train_test_split(ML_df, test_size=0.2)\n",
    "train_C, test_C = train_test_split(C_df, test_size=0.2)\n",
    "train_MR, test_MR = train_test_split(MR_df, test_size=0.2)\n",
    "train_R, test_R = train_test_split(R_df, test_size=0.2)\n"
   ],
   "metadata": {
    "collapsed": false,
    "ExecuteTime": {
     "end_time": "2023-06-08T21:59:07.140942991Z",
     "start_time": "2023-06-08T21:59:07.137642877Z"
    }
   }
  },
  {
   "cell_type": "code",
   "execution_count": 13,
   "outputs": [],
   "source": [
    "img_dir = \"/home/pepe/dev/datasets/dataset/\"\n",
    "out_dir = \"/home/pepe/dev/datasets/car_data/\""
   ],
   "metadata": {
    "collapsed": false,
    "ExecuteTime": {
     "end_time": "2023-06-08T21:59:08.110139471Z",
     "start_time": "2023-06-08T21:59:08.105421452Z"
    }
   }
  },
  {
   "cell_type": "code",
   "execution_count": 15,
   "outputs": [],
   "source": [
    "import shutil\n",
    "\n",
    "train_datasets = {\n",
    "    \"L\": train_L,\n",
    "    \"ML\": train_ML,\n",
    "    \"C\": train_C,\n",
    "    \"MR\": train_MR,\n",
    "    \"R\": train_R,\n",
    "}\n",
    "test_datasets = {\n",
    "    \"L\": test_L,\n",
    "    \"ML\": test_ML,\n",
    "    \"C\": test_C,\n",
    "    \"MR\": test_MR,\n",
    "    \"R\": test_R,\n",
    "}\n",
    "\n",
    "for folder, dataset in test_datasets.items():\n",
    "    # copy files to target dataset folder\n",
    "    for index, row in dataset.iterrows():\n",
    "        shutil.copyfile(f\"{img_dir}{row['id']}.bmp\", f\"{out_dir}test/{folder}/{row['id']}.bmp\")\n",
    "\n"
   ],
   "metadata": {
    "collapsed": false,
    "ExecuteTime": {
     "end_time": "2023-06-08T21:59:39.665669767Z",
     "start_time": "2023-06-08T21:59:38.871350242Z"
    }
   }
  },
  {
   "cell_type": "code",
   "execution_count": null,
   "outputs": [],
   "source": [],
   "metadata": {
    "collapsed": false
   }
  }
 ],
 "metadata": {
  "kernelspec": {
   "display_name": "Python 3",
   "language": "python",
   "name": "python3"
  },
  "language_info": {
   "codemirror_mode": {
    "name": "ipython",
    "version": 2
   },
   "file_extension": ".py",
   "mimetype": "text/x-python",
   "name": "python",
   "nbconvert_exporter": "python",
   "pygments_lexer": "ipython2",
   "version": "2.7.6"
  }
 },
 "nbformat": 4,
 "nbformat_minor": 0
}
